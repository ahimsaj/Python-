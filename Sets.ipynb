{
  "nbformat": 4,
  "nbformat_minor": 0,
  "metadata": {
    "colab": {
      "name": "Sets.ipynb",
      "provenance": []
    },
    "kernelspec": {
      "name": "python3",
      "display_name": "Python 3"
    },
    "language_info": {
      "name": "python"
    }
  },
  "cells": [
    {
      "cell_type": "code",
      "metadata": {
        "id": "mdSp58-FBJ7_"
      },
      "source": [
        "my_set={1,2,3}"
      ],
      "execution_count": 1,
      "outputs": []
    },
    {
      "cell_type": "code",
      "metadata": {
        "colab": {
          "base_uri": "https://localhost:8080/"
        },
        "id": "RtlmxDbwBO9-",
        "outputId": "13524193-d67c-4772-de8d-c9f86607f58d"
      },
      "source": [
        "print(my_set)"
      ],
      "execution_count": 2,
      "outputs": [
        {
          "output_type": "stream",
          "name": "stdout",
          "text": [
            "{1, 2, 3}\n"
          ]
        }
      ]
    },
    {
      "cell_type": "code",
      "metadata": {
        "id": "9O_A9UlCBQXR"
      },
      "source": [
        "my_set={5.654,\"Python\",(1,2,3)}#Set can have only float int tuple string values as set's elements are immutable \n",
        "#but set itself is mutable"
      ],
      "execution_count": 3,
      "outputs": []
    },
    {
      "cell_type": "code",
      "metadata": {
        "colab": {
          "base_uri": "https://localhost:8080/"
        },
        "id": "TLYX-TRhBSW3",
        "outputId": "b0ea0dda-5794-4f69-b6fb-4fb508be24b2"
      },
      "source": [
        "print(my_set)"
      ],
      "execution_count": 4,
      "outputs": [
        {
          "output_type": "stream",
          "name": "stdout",
          "text": [
            "{5.654, (1, 2, 3), 'Python'}\n"
          ]
        }
      ]
    },
    {
      "cell_type": "code",
      "metadata": {
        "colab": {
          "base_uri": "https://localhost:8080/",
          "height": 200
        },
        "id": "MzscjZdTBUDg",
        "outputId": "8d04f7cd-4377-41f5-bf0c-fabe081a56b2"
      },
      "source": [
        "my_set={1.123,\"python\",[1,2,3] }\n",
        "#This code will give error as we know that the element of set is immutable and list is mutable\n",
        "#so [1,2,3] can't be a element in set"
      ],
      "execution_count": 5,
      "outputs": [
        {
          "output_type": "error",
          "ename": "TypeError",
          "evalue": "ignored",
          "traceback": [
            "\u001b[0;31m---------------------------------------------------------------------------\u001b[0m",
            "\u001b[0;31mTypeError\u001b[0m                                 Traceback (most recent call last)",
            "\u001b[0;32m<ipython-input-5-78301bfe8bfe>\u001b[0m in \u001b[0;36m<module>\u001b[0;34m()\u001b[0m\n\u001b[0;32m----> 1\u001b[0;31m \u001b[0mmy_set\u001b[0m\u001b[0;34m=\u001b[0m\u001b[0;34m{\u001b[0m\u001b[0;36m1.123\u001b[0m\u001b[0;34m,\u001b[0m\u001b[0;34m\"python\"\u001b[0m\u001b[0;34m,\u001b[0m\u001b[0;34m[\u001b[0m\u001b[0;36m1\u001b[0m\u001b[0;34m,\u001b[0m\u001b[0;36m2\u001b[0m\u001b[0;34m,\u001b[0m\u001b[0;36m3\u001b[0m\u001b[0;34m]\u001b[0m \u001b[0;34m}\u001b[0m\u001b[0;34m\u001b[0m\u001b[0;34m\u001b[0m\u001b[0m\n\u001b[0m\u001b[1;32m      2\u001b[0m \u001b[0;31m#This code will give error as we know that the element of set is immutable and list is mutable\u001b[0m\u001b[0;34m\u001b[0m\u001b[0;34m\u001b[0m\u001b[0;34m\u001b[0m\u001b[0m\n\u001b[1;32m      3\u001b[0m \u001b[0;31m#so [1,2,3] can't be a element in set\u001b[0m\u001b[0;34m\u001b[0m\u001b[0;34m\u001b[0m\u001b[0;34m\u001b[0m\u001b[0m\n",
            "\u001b[0;31mTypeError\u001b[0m: unhashable type: 'list'"
          ]
        }
      ]
    },
    {
      "cell_type": "code",
      "metadata": {
        "colab": {
          "base_uri": "https://localhost:8080/"
        },
        "id": "YPozrAiqBVuj",
        "outputId": "16eeae5e-91bb-498f-a234-b27c36f194d7"
      },
      "source": [
        "my_set=([1,2,3]) #Here {} is not used so that why it is considered as list\n",
        "print(my_set)\n",
        "type(my_set)"
      ],
      "execution_count": 7,
      "outputs": [
        {
          "output_type": "stream",
          "name": "stdout",
          "text": [
            "[1, 2, 3]\n"
          ]
        },
        {
          "output_type": "execute_result",
          "data": {
            "text/plain": [
              "list"
            ]
          },
          "metadata": {},
          "execution_count": 7
        }
      ]
    },
    {
      "cell_type": "code",
      "metadata": {
        "colab": {
          "base_uri": "https://localhost:8080/"
        },
        "id": "5xwgaKjABbnT",
        "outputId": "00987a8f-8146-44d4-e3af-44ab5bdb6d74"
      },
      "source": [
        "a={} #here empty {} will define dictionary to define set we have to use set function\n",
        "print(a)\n",
        "type(a)"
      ],
      "execution_count": 8,
      "outputs": [
        {
          "output_type": "stream",
          "name": "stdout",
          "text": [
            "{}\n"
          ]
        },
        {
          "output_type": "execute_result",
          "data": {
            "text/plain": [
              "dict"
            ]
          },
          "metadata": {},
          "execution_count": 8
        }
      ]
    },
    {
      "cell_type": "code",
      "metadata": {
        "colab": {
          "base_uri": "https://localhost:8080/"
        },
        "id": "UHGZKHFmBely",
        "outputId": "bf3038fd-2468-469f-cf24-259397e5431f"
      },
      "source": [
        "a=set()\n",
        "print(a)\n",
        "type(a)"
      ],
      "execution_count": 9,
      "outputs": [
        {
          "output_type": "stream",
          "name": "stdout",
          "text": [
            "set()\n"
          ]
        },
        {
          "output_type": "execute_result",
          "data": {
            "text/plain": [
              "set"
            ]
          },
          "metadata": {},
          "execution_count": 9
        }
      ]
    },
    {
      "cell_type": "code",
      "metadata": {
        "colab": {
          "base_uri": "https://localhost:8080/"
        },
        "id": "znCC0akqBgeO",
        "outputId": "41716c5b-0860-40d4-c3e8-af2317a1e098"
      },
      "source": [
        "my=set([1,2,3]) #Here it is accepting list but treating the each element of list as the element of set\n",
        "print(my)\n",
        "type(my)"
      ],
      "execution_count": 10,
      "outputs": [
        {
          "output_type": "stream",
          "name": "stdout",
          "text": [
            "{1, 2, 3}\n"
          ]
        },
        {
          "output_type": "execute_result",
          "data": {
            "text/plain": [
              "set"
            ]
          },
          "metadata": {},
          "execution_count": 10
        }
      ]
    },
    {
      "cell_type": "code",
      "metadata": {
        "colab": {
          "base_uri": "https://localhost:8080/"
        },
        "id": "rFHeC2mWBiFt",
        "outputId": "ac4d0a0d-932b-4dc2-e28b-4cda2ceae5f2"
      },
      "source": [
        "my=set()\n",
        "my.add(2)\n",
        "my"
      ],
      "execution_count": 11,
      "outputs": [
        {
          "output_type": "execute_result",
          "data": {
            "text/plain": [
              "{2}"
            ]
          },
          "metadata": {},
          "execution_count": 11
        }
      ]
    },
    {
      "cell_type": "code",
      "metadata": {
        "colab": {
          "base_uri": "https://localhost:8080/"
        },
        "id": "iHMRZS79BkIR",
        "outputId": "128e3d4c-fe63-40b6-c228-f89626c6b372"
      },
      "source": [
        "my.add(2) #set does not have duplicate value\n",
        "my"
      ],
      "execution_count": 12,
      "outputs": [
        {
          "output_type": "execute_result",
          "data": {
            "text/plain": [
              "{2}"
            ]
          },
          "metadata": {},
          "execution_count": 12
        }
      ]
    },
    {
      "cell_type": "code",
      "metadata": {
        "colab": {
          "base_uri": "https://localhost:8080/"
        },
        "id": "LUn_oS34BlcI",
        "outputId": "bed7c868-29ff-4098-a62f-ead01f586fb9"
      },
      "source": [
        "my.update([1,2,3])\n",
        "my"
      ],
      "execution_count": 13,
      "outputs": [
        {
          "output_type": "execute_result",
          "data": {
            "text/plain": [
              "{1, 2, 3}"
            ]
          },
          "metadata": {},
          "execution_count": 13
        }
      ]
    },
    {
      "cell_type": "code",
      "metadata": {
        "colab": {
          "base_uri": "https://localhost:8080/"
        },
        "id": "JaMLQTnbBm2l",
        "outputId": "dcf48924-4835-4716-ef6f-cbe2b5fc5806"
      },
      "source": [
        "my.update({1,2,3}, {1,6,8})\n",
        "my #update will update more than 1 element at time and add will add 1 element in set"
      ],
      "execution_count": 14,
      "outputs": [
        {
          "output_type": "execute_result",
          "data": {
            "text/plain": [
              "{1, 2, 3, 6, 8}"
            ]
          },
          "metadata": {},
          "execution_count": 14
        }
      ]
    },
    {
      "cell_type": "code",
      "metadata": {
        "colab": {
          "base_uri": "https://localhost:8080/",
          "height": 183
        },
        "id": "tBN6YE5GBofc",
        "outputId": "c3577c13-b5fa-42fd-8833-1ec77f83ee6a"
      },
      "source": [
        "my.remove(4) #Remove will remove the element but if the element is not present in set then it will show a traceback\n",
        "my.discard(4) #discard also remove the element but if the element is not present in set then also it doesnt show any message or traceback"
      ],
      "execution_count": 15,
      "outputs": [
        {
          "output_type": "error",
          "ename": "KeyError",
          "evalue": "ignored",
          "traceback": [
            "\u001b[0;31m---------------------------------------------------------------------------\u001b[0m",
            "\u001b[0;31mKeyError\u001b[0m                                  Traceback (most recent call last)",
            "\u001b[0;32m<ipython-input-15-cb1e3d3acf3c>\u001b[0m in \u001b[0;36m<module>\u001b[0;34m()\u001b[0m\n\u001b[0;32m----> 1\u001b[0;31m \u001b[0mmy\u001b[0m\u001b[0;34m.\u001b[0m\u001b[0mremove\u001b[0m\u001b[0;34m(\u001b[0m\u001b[0;36m4\u001b[0m\u001b[0;34m)\u001b[0m \u001b[0;31m#Remove will remove the element but if the element is not present in set then it will show a traceback\u001b[0m\u001b[0;34m\u001b[0m\u001b[0;34m\u001b[0m\u001b[0m\n\u001b[0m\u001b[1;32m      2\u001b[0m \u001b[0mmy\u001b[0m\u001b[0;34m.\u001b[0m\u001b[0mdiscard\u001b[0m\u001b[0;34m(\u001b[0m\u001b[0;36m4\u001b[0m\u001b[0;34m)\u001b[0m \u001b[0;31m#discard also remove the element but if the element is not present in set then also it doesnt show any message or traceback\u001b[0m\u001b[0;34m\u001b[0m\u001b[0;34m\u001b[0m\u001b[0m\n",
            "\u001b[0;31mKeyError\u001b[0m: 4"
          ]
        }
      ]
    },
    {
      "cell_type": "code",
      "metadata": {
        "colab": {
          "base_uri": "https://localhost:8080/"
        },
        "id": "EY73iGc6BqX6",
        "outputId": "7f2e9dc8-1f32-43cb-f5c7-8681fd2de29a"
      },
      "source": [
        "my.discard(3)\n",
        "my"
      ],
      "execution_count": 16,
      "outputs": [
        {
          "output_type": "execute_result",
          "data": {
            "text/plain": [
              "{1, 2, 6, 8}"
            ]
          },
          "metadata": {},
          "execution_count": 16
        }
      ]
    },
    {
      "cell_type": "code",
      "metadata": {
        "colab": {
          "base_uri": "https://localhost:8080/"
        },
        "id": "XvciM3BDBrub",
        "outputId": "855f685a-c4e0-4e8a-83ad-c15db4a027af"
      },
      "source": [
        "my.pop()"
      ],
      "execution_count": 17,
      "outputs": [
        {
          "output_type": "execute_result",
          "data": {
            "text/plain": [
              "1"
            ]
          },
          "metadata": {},
          "execution_count": 17
        }
      ]
    },
    {
      "cell_type": "code",
      "metadata": {
        "colab": {
          "base_uri": "https://localhost:8080/"
        },
        "id": "WpXp68zdBt2S",
        "outputId": "da4441ec-36e8-4df3-8565-34309182802e"
      },
      "source": [
        "my=set(\"HelloWorld\")\n",
        "my"
      ],
      "execution_count": 18,
      "outputs": [
        {
          "output_type": "execute_result",
          "data": {
            "text/plain": [
              "{'H', 'W', 'd', 'e', 'l', 'o', 'r'}"
            ]
          },
          "metadata": {},
          "execution_count": 18
        }
      ]
    },
    {
      "cell_type": "code",
      "metadata": {
        "colab": {
          "base_uri": "https://localhost:8080/"
        },
        "id": "qMNLW79uBvle",
        "outputId": "2897ca3d-a2e3-4704-8247-f43d2266156f"
      },
      "source": [
        "my.clear()\n",
        "print(my)"
      ],
      "execution_count": 19,
      "outputs": [
        {
          "output_type": "stream",
          "name": "stdout",
          "text": [
            "set()\n"
          ]
        }
      ]
    },
    {
      "cell_type": "code",
      "metadata": {
        "colab": {
          "base_uri": "https://localhost:8080/"
        },
        "id": "VFfn25mRBxU9",
        "outputId": "1b66e923-29ac-4bda-d20b-6c392e22e1ef"
      },
      "source": [
        "A={1,2,3,4,5}\n",
        "B={4,5,6,7,8}\n",
        "print(A|B) # | is for union"
      ],
      "execution_count": 20,
      "outputs": [
        {
          "output_type": "stream",
          "name": "stdout",
          "text": [
            "{1, 2, 3, 4, 5, 6, 7, 8}\n"
          ]
        }
      ]
    },
    {
      "cell_type": "code",
      "metadata": {
        "colab": {
          "base_uri": "https://localhost:8080/"
        },
        "id": "w3CsefXsByiB",
        "outputId": "3c84b105-49f0-44e7-fdb6-2b1dd3431afb"
      },
      "source": [
        "A.union(B)"
      ],
      "execution_count": 21,
      "outputs": [
        {
          "output_type": "execute_result",
          "data": {
            "text/plain": [
              "{1, 2, 3, 4, 5, 6, 7, 8}"
            ]
          },
          "metadata": {},
          "execution_count": 21
        }
      ]
    },
    {
      "cell_type": "code",
      "metadata": {
        "colab": {
          "base_uri": "https://localhost:8080/"
        },
        "id": "E1L8oSpNBz0R",
        "outputId": "905a6f0b-070a-4fa4-8037-dc05e9b5ee23"
      },
      "source": [
        "print(A)\n",
        "print(B)"
      ],
      "execution_count": 22,
      "outputs": [
        {
          "output_type": "stream",
          "name": "stdout",
          "text": [
            "{1, 2, 3, 4, 5}\n",
            "{4, 5, 6, 7, 8}\n"
          ]
        }
      ]
    },
    {
      "cell_type": "code",
      "metadata": {
        "colab": {
          "base_uri": "https://localhost:8080/"
        },
        "id": "_65OeVAaB1Dh",
        "outputId": "a231c952-ad07-48e0-abcb-82df4a354d35"
      },
      "source": [
        "print(A&B) # & is for intersection"
      ],
      "execution_count": 23,
      "outputs": [
        {
          "output_type": "stream",
          "name": "stdout",
          "text": [
            "{4, 5}\n"
          ]
        }
      ]
    },
    {
      "cell_type": "code",
      "metadata": {
        "colab": {
          "base_uri": "https://localhost:8080/"
        },
        "id": "e_Y-t-9QB27_",
        "outputId": "062561a9-f033-4ad1-ad72-cab7c63d517f"
      },
      "source": [
        "A.intersection(B)"
      ],
      "execution_count": 24,
      "outputs": [
        {
          "output_type": "execute_result",
          "data": {
            "text/plain": [
              "{4, 5}"
            ]
          },
          "metadata": {},
          "execution_count": 24
        }
      ]
    },
    {
      "cell_type": "code",
      "metadata": {
        "colab": {
          "base_uri": "https://localhost:8080/"
        },
        "id": "Fv9YuIOyB4Li",
        "outputId": "ff9aefd5-f4cc-46bf-fe56-da3b6bf1682d"
      },
      "source": [
        "print(A-B) # - is for difference"
      ],
      "execution_count": 25,
      "outputs": [
        {
          "output_type": "stream",
          "name": "stdout",
          "text": [
            "{1, 2, 3}\n"
          ]
        }
      ]
    },
    {
      "cell_type": "code",
      "metadata": {
        "colab": {
          "base_uri": "https://localhost:8080/"
        },
        "id": "IgAUNXEBB5V3",
        "outputId": "a777b8e4-a873-420a-fb6f-b944b2b726fb"
      },
      "source": [
        "A.difference(B)\n"
      ],
      "execution_count": 26,
      "outputs": [
        {
          "output_type": "execute_result",
          "data": {
            "text/plain": [
              "{1, 2, 3}"
            ]
          },
          "metadata": {},
          "execution_count": 26
        }
      ]
    },
    {
      "cell_type": "code",
      "metadata": {
        "colab": {
          "base_uri": "https://localhost:8080/"
        },
        "id": "c9EtNn3CB7Ae",
        "outputId": "1e00208c-7c1b-41ad-e448-cc4285a88260"
      },
      "source": [
        "print(A^B) # ^ is for symmetric difference"
      ],
      "execution_count": 27,
      "outputs": [
        {
          "output_type": "stream",
          "name": "stdout",
          "text": [
            "{1, 2, 3, 6, 7, 8}\n"
          ]
        }
      ]
    },
    {
      "cell_type": "code",
      "metadata": {
        "colab": {
          "base_uri": "https://localhost:8080/"
        },
        "id": "ri3RLkUpB8R_",
        "outputId": "997fb28d-ec86-4f0f-d9df-a410c386c6ad"
      },
      "source": [
        "A.symmetric_difference(B)"
      ],
      "execution_count": 29,
      "outputs": [
        {
          "output_type": "execute_result",
          "data": {
            "text/plain": [
              "{1, 2, 3, 6, 7, 8}"
            ]
          },
          "metadata": {},
          "execution_count": 29
        }
      ]
    },
    {
      "cell_type": "code",
      "metadata": {
        "colab": {
          "base_uri": "https://localhost:8080/"
        },
        "id": "YqtbL9YAB9nR",
        "outputId": "69663d42-dbd1-4ae9-c7b9-ffb3601265f7"
      },
      "source": [
        "print(1 in A) #This shows that sets are iterable"
      ],
      "execution_count": 30,
      "outputs": [
        {
          "output_type": "stream",
          "name": "stdout",
          "text": [
            "True\n"
          ]
        }
      ]
    },
    {
      "cell_type": "code",
      "metadata": {
        "colab": {
          "base_uri": "https://localhost:8080/"
        },
        "id": "DHUUV6EoCAdm",
        "outputId": "7e8a6a7b-58fe-4b53-edd3-23c57d132834"
      },
      "source": [
        "my=set(\"Prakhar Jain\")\n",
        "for letter in my:\n",
        "  print(letter)"
      ],
      "execution_count": 31,
      "outputs": [
        {
          "output_type": "stream",
          "name": "stdout",
          "text": [
            "h\n",
            "k\n",
            "r\n",
            "a\n",
            "P\n",
            "i\n",
            "J\n",
            "n\n",
            " \n"
          ]
        }
      ]
    },
    {
      "cell_type": "code",
      "metadata": {
        "id": "F4aQ4VOzCG0o",
        "outputId": "fcc9ea5f-4d43-48c1-8f0a-3a2591918d2d",
        "colab": {
          "base_uri": "https://localhost:8080/"
        }
      },
      "source": [
        "my=set(\"Acropolis\")\n",
        "for letter in my:\n",
        "  print(letter)"
      ],
      "execution_count": 32,
      "outputs": [
        {
          "output_type": "stream",
          "name": "stdout",
          "text": [
            "p\n",
            "r\n",
            "c\n",
            "o\n",
            "l\n",
            "A\n",
            "i\n",
            "s\n"
          ]
        }
      ]
    },
    {
      "cell_type": "code",
      "metadata": {
        "id": "M-LfYUnwCHSy",
        "outputId": "00c85e79-3817-42e5-b4cf-9fdcb164b37c",
        "colab": {
          "base_uri": "https://localhost:8080/"
        }
      },
      "source": [
        "my=set(\"banana\")\n",
        "for letter in my:\n",
        "  print(letter)"
      ],
      "execution_count": 33,
      "outputs": [
        {
          "output_type": "stream",
          "name": "stdout",
          "text": [
            "a\n",
            "n\n",
            "b\n"
          ]
        }
      ]
    }
  ]
}