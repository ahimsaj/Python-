{
  "nbformat": 4,
  "nbformat_minor": 0,
  "metadata": {
    "colab": {
      "name": "48_to_61_Functions.ipynb",
      "provenance": []
    },
    "kernelspec": {
      "name": "python3",
      "display_name": "Python 3"
    },
    "language_info": {
      "name": "python"
    }
  },
  "cells": [
    {
      "cell_type": "code",
      "metadata": {
        "colab": {
          "base_uri": "https://localhost:8080/"
        },
        "id": "1PPqvtwB-gxr",
        "outputId": "7080c033-8bc4-4366-e589-ee8a4d038672"
      },
      "source": [
        "#48)Write a Python function that takes a list of words and returns the length of the longest one.\n",
        "def find_longest_word(words_list):\n",
        "    word_len = []\n",
        "    for n in words_list:\n",
        "        word_len.append((len(n), n))\n",
        "    word_len.sort()\n",
        "    return word_len[-1][0], word_len[-1][1]\n",
        "result = find_longest_word([\"CS\", \"ACROPOLIS\", \"CSIT\"])\n",
        "print(\"\\nLongest word: \",result[1])\n",
        "print(\"Length of the longest word: \",result[0])"
      ],
      "execution_count": 1,
      "outputs": [
        {
          "output_type": "stream",
          "name": "stdout",
          "text": [
            "\n",
            "Longest word:  ACROPOLIS\n",
            "Length of the longest word:  9\n"
          ]
        }
      ]
    },
    {
      "cell_type": "code",
      "metadata": {
        "colab": {
          "base_uri": "https://localhost:8080/"
        },
        "id": "uffMgOew-5Tv",
        "outputId": "1bc91c62-5343-4b9e-f4b5-0744ce648beb"
      },
      "source": [
        "#49.Write a function x(n) for computing an element in the sequence xn=n^2+1. Call the function for n=4 and write out the result.\n",
        "\n",
        "def x(n):\n",
        "  return(n**2 + 1)\n",
        "\n",
        "print(x(4))"
      ],
      "execution_count": 2,
      "outputs": [
        {
          "output_type": "stream",
          "name": "stdout",
          "text": [
            "17\n"
          ]
        }
      ]
    },
    {
      "cell_type": "code",
      "metadata": {
        "colab": {
          "base_uri": "https://localhost:8080/"
        },
        "id": "JoEGMKPv-728",
        "outputId": "d121d9f9-9216-4e19-9517-be290be9d10b"
      },
      "source": [
        "#50. Take the following Python code that stores a string: ‘str = 'Y-tatata-acropolis: 0.8475'. Use find and string slicing to extract the portion \n",
        "#of the string after the colon character and then use the float function to convert the extracted string into a floating point number.\n",
        "\n",
        "string = 'Y-tatata-acropolis: 0.8475'\n",
        "col_pos = string.find(':')                  # Finds the colon character\n",
        "number = string[col_pos + 1:]                 # Extracts portion after colon\n",
        "confidence = float(number)                  # Converts to floating point number\n",
        "print(confidence)"
      ],
      "execution_count": 3,
      "outputs": [
        {
          "output_type": "stream",
          "name": "stdout",
          "text": [
            "0.8475\n"
          ]
        }
      ]
    },
    {
      "cell_type": "code",
      "metadata": {
        "colab": {
          "base_uri": "https://localhost:8080/"
        },
        "id": "aFP9xq0y--MM",
        "outputId": "7fc3eb20-0fbc-4c7b-fba1-7fa3b3d66f66"
      },
      "source": [
        "#51. Write a function that returns the middle value among three integers. (Hint: make use of min() and max()). Write code to test this function with different inputs.\n",
        "\n",
        "def middleOfThree(a, b, c) :\n",
        "\tif a > b :\n",
        "\t\tif (b > c):\n",
        "\t\t\treturn b\n",
        "\t\telif (a > c) :\n",
        "\t\t\treturn c\n",
        "\t\telse :\n",
        "\t\t\treturn a\n",
        "\telse:\n",
        "\t\tif (a > c) :\n",
        "\t\t\treturn a\n",
        "\t\telif (b > c) :\n",
        "\t\t\treturn c\n",
        "\t\telse :\n",
        "\t\t\treturn b\n",
        "\n",
        "a = 20\n",
        "b = 45\n",
        "c = 40\n",
        "print( middleOfThree(a, b, c) )"
      ],
      "execution_count": 4,
      "outputs": [
        {
          "output_type": "stream",
          "name": "stdout",
          "text": [
            "40\n"
          ]
        }
      ]
    },
    {
      "cell_type": "code",
      "metadata": {
        "colab": {
          "base_uri": "https://localhost:8080/"
        },
        "id": "Py7snecv_AzP",
        "outputId": "895d3a6c-68bb-492f-963d-6c737c4cfeb7"
      },
      "source": [
        "#52.Write a function that computes the area of a rectangle. Then, write a second function that calls this function three times to compute the surface area of a rectangular solid.\n",
        "def secondfun():\n",
        "  for i in range(3):\n",
        "    print(area(i+1,i+3))\n",
        "\n",
        "def area(h,w):\n",
        "  area=h*w\n",
        "  return area\n",
        "height=2\n",
        "width=3\n",
        "print(area(height,width))\n",
        "\n",
        "secondfun()"
      ],
      "execution_count": 5,
      "outputs": [
        {
          "output_type": "stream",
          "name": "stdout",
          "text": [
            "6\n",
            "3\n",
            "8\n",
            "15\n"
          ]
        }
      ]
    },
    {
      "cell_type": "code",
      "metadata": {
        "colab": {
          "base_uri": "https://localhost:8080/"
        },
        "id": "cIOC5z5T_Dvd",
        "outputId": "598fd6fc-2174-4be2-d5e2-7b9bc7a7ae1c"
      },
      "source": [
        "#53.Create an outer function that will accept three parameters, a, b and c. Create an inner function inside an outer function that will calculate the\n",
        "#addition of a, b and c. At last, an outer function will add 5 into addition and return it \n",
        "def num1(x,y,z):\n",
        "  def num2(a,b,c):\n",
        "    return a+b+c\n",
        "  outer=num2(x,y,z)+5\n",
        "  return outer\n",
        "\n",
        "print(num1(5,4,5))"
      ],
      "execution_count": 6,
      "outputs": [
        {
          "output_type": "stream",
          "name": "stdout",
          "text": [
            "19\n"
          ]
        }
      ]
    },
    {
      "cell_type": "code",
      "metadata": {
        "colab": {
          "base_uri": "https://localhost:8080/"
        },
        "id": "mlmaPpTT_GBV",
        "outputId": "ac055e62-bbc9-42c1-d377-a3d814af369b"
      },
      "source": [
        "#54.Write a program to create a recursive function to calculate the product of numbers from 10 to 100.\n",
        "\n",
        "def recur(n):\n",
        "   if n == 10:\n",
        "       return n\n",
        "   else:\n",
        "       return n*recur(n-1)\n",
        "\n",
        "print(\"the product of numbers from 10 to 100 : \" \"is\", recur(100))"
      ],
      "execution_count": 7,
      "outputs": [
        {
          "output_type": "stream",
          "name": "stdout",
          "text": [
            "the product of numbers from 10 to 100 : is 257182031095525112107857249934597388918419224714455526533820998388496472644482792132224051962512451185663850090463028434334174412800000000000000000000000\n"
          ]
        }
      ]
    },
    {
      "cell_type": "code",
      "metadata": {
        "colab": {
          "base_uri": "https://localhost:8080/"
        },
        "id": "YT-QlYcR_Ii5",
        "outputId": "585c1ab8-e7dd-40e0-e0d6-ab48863de495"
      },
      "source": [
        "#55.Write a Python function to calculate the factorial of a number (a non-negative integer). The function accepts the number as an argument.\n",
        "def factorial(n):\n",
        "    if n == 0:\n",
        "        return 1\n",
        "    else:\n",
        "        return n * factorial(n-1)\n",
        "n=int(input(\"Input a number : \"))\n",
        "print(factorial(n))"
      ],
      "execution_count": 8,
      "outputs": [
        {
          "output_type": "stream",
          "name": "stdout",
          "text": [
            "Input a number : 5\n",
            "120\n"
          ]
        }
      ]
    },
    {
      "cell_type": "code",
      "metadata": {
        "colab": {
          "base_uri": "https://localhost:8080/"
        },
        "id": "-CAwn-Lc_KIa",
        "outputId": "31062632-8b0f-4a64-b5f7-c1d200fab6c5"
      },
      "source": [
        "#56.Write a Python function to display all the multiples of  7 & 9 within the range 100 to 500.\n",
        "nl=[]\n",
        "for x in range(100, 501):\n",
        "    if (x%7==0) and (x%9==0):\n",
        "        nl.append(str(x))\n",
        "print (','.join(nl))"
      ],
      "execution_count": 9,
      "outputs": [
        {
          "output_type": "stream",
          "name": "stdout",
          "text": [
            "126,189,252,315,378,441\n"
          ]
        }
      ]
    },
    {
      "cell_type": "code",
      "metadata": {
        "colab": {
          "base_uri": "https://localhost:8080/"
        },
        "id": "zQgJfJ4l_Nof",
        "outputId": "5fee0a7e-f62e-40f5-b66b-1c5c4cb65adc"
      },
      "source": [
        "#57.Write a Python function  to check whether the given integer is a prime number or not.\n",
        "num = 27\n",
        "flag = False\n",
        "def prime(n):\n",
        "  flag1=False\n",
        "  if n > 1:\n",
        "    for i in range(2, n):\n",
        "        if (n % i) == 0:\n",
        "            flag1 = True\n",
        "            break\n",
        "  return flag1\n",
        "\n",
        "flag=prime(num)\n",
        "if flag:\n",
        "    print(num, \"is not a prime number\")\n",
        "else:\n",
        "    print(num, \"is a prime number\")"
      ],
      "execution_count": 10,
      "outputs": [
        {
          "output_type": "stream",
          "name": "stdout",
          "text": [
            "27 is not a prime number\n"
          ]
        }
      ]
    },
    {
      "cell_type": "code",
      "metadata": {
        "colab": {
          "base_uri": "https://localhost:8080/"
        },
        "id": "P4JERl4J_Pbx",
        "outputId": "114b8dde-c48d-478a-885e-18138033a541"
      },
      "source": [
        "#58. Write a Python function that checks whether a passed interger is armstrong or not.\n",
        "\n",
        "n = int(input(\"Enter a number: \"))\n",
        "\n",
        "def armstrong(num):\n",
        "  sum = 0\n",
        "  temp = num\n",
        "  while temp > 0:\n",
        "    digit = temp % 10\n",
        "    sum += digit ** 3\n",
        "    temp //= 10\n",
        "  return sum\n",
        "\n",
        "summ=armstrong(n)\n",
        "if n == summ:\n",
        "   print(n,\"is an Armstrong number\")\n",
        "else:\n",
        "   print(n,\"is not an Armstrong number\")"
      ],
      "execution_count": 11,
      "outputs": [
        {
          "output_type": "stream",
          "name": "stdout",
          "text": [
            "Enter a number: 407\n",
            "407 is an Armstrong number\n"
          ]
        }
      ]
    },
    {
      "cell_type": "code",
      "metadata": {
        "colab": {
          "base_uri": "https://localhost:8080/"
        },
        "id": "as2J3Z0x_RPp",
        "outputId": "110b451f-ff6f-47df-8cf5-eab0153f4884"
      },
      "source": [
        "#59. Program to return a function from another function.\n",
        "\n",
        "def B():\n",
        "\tprint(\"Inside the method B.\")\n",
        "\t\n",
        "def A():\n",
        "\tprint(\"Inside the method A.\")\n",
        "\treturn B\n",
        "\n",
        "returned_function = A()\n",
        "\n",
        "returned_function()"
      ],
      "execution_count": 12,
      "outputs": [
        {
          "output_type": "stream",
          "name": "stdout",
          "text": [
            "Inside the method A.\n",
            "Inside the method B.\n"
          ]
        }
      ]
    },
    {
      "cell_type": "code",
      "metadata": {
        "colab": {
          "base_uri": "https://localhost:8080/"
        },
        "id": "BLnNTW8T_UGh",
        "outputId": "7785466c-1db7-440f-9508-31d5c756deaf"
      },
      "source": [
        "#60. First, def a function, start_process, that takes one argument p. Then, if the start_process function receives an p equal to \"Yes\",\n",
        "# it should return \"Start Process\" Alternatively, elif p is equal to \"No\", then the function should return \"Start Process Aborted\".\n",
        "#  Finally, if start_process gets anything other than those inputs, the function should return \"Sorry for the input\".\n",
        "\n",
        "def start_process(p):\n",
        "  if p==\"Yes\":\n",
        "    return \"Start Process\"\n",
        "  elif p==\"No\":\n",
        "    return \"Start Process Aborted\"\n",
        "  else:\n",
        "    return \"Sorry for the input\"\n",
        "\n",
        "command= input(\"Enter a command: \")\n",
        "print(start_process(command))"
      ],
      "execution_count": 13,
      "outputs": [
        {
          "output_type": "stream",
          "name": "stdout",
          "text": [
            "Enter a command: Yes\n",
            "Start Process\n"
          ]
        }
      ]
    },
    {
      "cell_type": "code",
      "metadata": {
        "colab": {
          "base_uri": "https://localhost:8080/"
        },
        "id": "d9dyHff2_V8l",
        "outputId": "e71fb1ac-2265-4223-8f79-c8afb036cdb6"
      },
      "source": [
        "#61. First, def a function called calculate_distance, with one argument (choose any argument name you like).\n",
        "#   If the type of the argument is either int or float, the function should return the absolute value of the function input.\n",
        "#   Otherwise, the function should return \"No value\". Check if it works calling the function with  9.6 and \"what?\".\n",
        "\n",
        "def calculate_distance(argument):\n",
        "  if type(argument) == int or type(argument) == float:\n",
        "      return abs(argument)\n",
        "  else:\n",
        "      print(\"No value\")\n",
        "\n",
        "print(\"the absolute value : \" ,calculate_distance(33.20))\n",
        "\n",
        "calculate_distance(\"what?\")"
      ],
      "execution_count": 14,
      "outputs": [
        {
          "output_type": "stream",
          "name": "stdout",
          "text": [
            "the absolute value :  33.2\n",
            "No value\n"
          ]
        }
      ]
    }
  ]
}
