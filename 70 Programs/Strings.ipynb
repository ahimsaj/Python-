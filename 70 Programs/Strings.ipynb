{
  "nbformat": 4,
  "nbformat_minor": 0,
  "metadata": {
    "colab": {
      "name": "String_34_to_47.ipynb",
      "provenance": []
    },
    "kernelspec": {
      "name": "python3",
      "display_name": "Python 3"
    },
    "language_info": {
      "name": "python"
    }
  },
  "cells": [
    {
      "cell_type": "code",
      "metadata": {
        "id": "zC75v3TrbDvh",
        "colab": {
          "base_uri": "https://localhost:8080/"
        },
        "outputId": "1a51889e-6a71-4ac8-cf4b-b0c99f09d77f"
      },
      "source": [
        "#34 Write a Python program to calculate the length of a given string.\n",
        "\n",
        "a = input(\"Enter a string: \")\n",
        "print(\"Length of the string is : \",len(a))"
      ],
      "execution_count": 1,
      "outputs": [
        {
          "output_type": "stream",
          "name": "stdout",
          "text": [
            "Enter a string: helloworld\n",
            "Length of the string is :  10\n"
          ]
        }
      ]
    },
    {
      "cell_type": "code",
      "metadata": {
        "id": "m-LY2ZifbJFw",
        "colab": {
          "base_uri": "https://localhost:8080/"
        },
        "outputId": "c5edecc4-016c-4e82-95af-a8be7ea536f0"
      },
      "source": [
        "#35 Write a Python program to get a single string from two given strings, separated by a space and swap the first characters of each string.\n",
        "#  Sample String : 'abc', 'xyz' \n",
        "#  Expected Result : 'xbc ayz'\n",
        "\n",
        "str1 = input(\"Enter 1st string :\")\n",
        "str2 = input(\"Enter 2nd string :\") \n",
        "new_str1 = str2[0] + str1[1: ]\n",
        "new_str2 = str1[0] + str2[1: ]\n",
        "print(new_str1 + \" \" + new_str2)"
      ],
      "execution_count": 2,
      "outputs": [
        {
          "output_type": "stream",
          "name": "stdout",
          "text": [
            "Enter 1st string :abc\n",
            "Enter 2nd string :xyz\n",
            "xbc ayz\n"
          ]
        }
      ]
    },
    {
      "cell_type": "code",
      "metadata": {
        "id": "MC6AKgETdmsP",
        "colab": {
          "base_uri": "https://localhost:8080/"
        },
        "outputId": "670bb1eb-b26c-4cd4-9b32-bf7618d4d6f4"
      },
      "source": [
        "#36 Write a Python program to add 'polis' at the end of a given string (length should be at least 3).\n",
        "#   If the given string already ends with 'polis' then add 'polisCS' instead.\n",
        "#   If the string length of the given string is less than 3, leave it unchanged. \n",
        "#  Sample String : 'abc'\n",
        "#  Expected Result : 'abcpolisCS' \n",
        "#  Sample String : 'Acropolis'\n",
        "#  Expected Result : 'AcropolisCS'\n",
        "\n",
        "str = input(\"Enter a string : \")\n",
        "\n",
        "if len(str)<3:\n",
        "    print(str)\n",
        "elif str[-5:]=='polis':\n",
        "    print(str+'CS')\n",
        "else:\n",
        "    print(str+'polis')"
      ],
      "execution_count": 3,
      "outputs": [
        {
          "output_type": "stream",
          "name": "stdout",
          "text": [
            "Enter a string : prakharja\n",
            "prakharjapolis\n"
          ]
        }
      ]
    },
    {
      "cell_type": "code",
      "metadata": {
        "id": "1vSdSl-dg18L",
        "colab": {
          "base_uri": "https://localhost:8080/"
        },
        "outputId": "4b240eeb-7a74-4b1d-ae64-66f2a36965c2"
      },
      "source": [
        "#37. Write a Python program to count the number of characters (character frequency) in a string. \n",
        "#  Sample String : google.com'\n",
        "#  Expected Result : {'o': 3, 'g': 2, '.': 1, 'e': 1, 'l': 1, 'm': 1, 'c': 1}\n",
        "\n",
        "str1 = input(\"Enter a string :\")\n",
        "freq = {}\n",
        "for i in str1:\n",
        "    if i in freq:\n",
        "        freq[i]+= 1\n",
        "    else:\n",
        "        freq[i] = 1\n",
        "\n",
        "print(freq)          \n"
      ],
      "execution_count": 10,
      "outputs": [
        {
          "output_type": "stream",
          "name": "stdout",
          "text": [
            "Enter a string :google.com\n",
            "{'g': 2, 'o': 3, 'l': 1, 'e': 1, '.': 1, 'c': 1, 'm': 1}\n"
          ]
        }
      ]
    },
    {
      "cell_type": "code",
      "metadata": {
        "id": "RjxgASiJizya",
        "colab": {
          "base_uri": "https://localhost:8080/"
        },
        "outputId": "3d5e5ecb-e6be-42ed-db75-4edbbe4f8716"
      },
      "source": [
        "#38 Write a Python program to change a given string to a new string where the second and last chars have been exchanged.\n",
        "\n",
        "str1 = input(\"Enter a string :\")\n",
        "new_str = str1[0] + str1[-2] + str1[2:-2] + str1[1] + str1[-1]\n",
        "print(new_str)"
      ],
      "execution_count": 11,
      "outputs": [
        {
          "output_type": "stream",
          "name": "stdout",
          "text": [
            "Enter a string :my name is prakhar jain\n",
            "mi name is prakhar jayn\n"
          ]
        }
      ]
    },
    {
      "cell_type": "code",
      "metadata": {
        "id": "K8bfDUOPkWpK",
        "colab": {
          "base_uri": "https://localhost:8080/"
        },
        "outputId": "641b42a9-f88e-4a07-ebfc-375dc56c7e72"
      },
      "source": [
        "#39 Write a Python program to remove the characters which have even index values of a given string.\n",
        "\n",
        "str1 = input(\"Enter a string: \")\n",
        "new_str = ''\n",
        "for i in range(len(str1)):\n",
        "    if i%2==0:\n",
        "        new_str = new_str + str1[i]\n",
        "        \n",
        "print(new_str)        "
      ],
      "execution_count": 12,
      "outputs": [
        {
          "output_type": "stream",
          "name": "stdout",
          "text": [
            "Enter a string: my name is pj\n",
            "m aei j\n"
          ]
        }
      ]
    },
    {
      "cell_type": "code",
      "metadata": {
        "id": "qpvP6tbnm1zr",
        "colab": {
          "base_uri": "https://localhost:8080/"
        },
        "outputId": "0715fcd9-4766-4f2a-ad69-e8f125cfb763"
      },
      "source": [
        "#40 Write a Python program that takes input from the user and displays that input back in upper and lower cases.\n",
        "str1 = input(\"Enter a string :\")\n",
        "print(\"In lower case :\"+str1.lower())\n",
        "print(\"In upper case :\"+str1.upper())"
      ],
      "execution_count": 13,
      "outputs": [
        {
          "output_type": "stream",
          "name": "stdout",
          "text": [
            "Enter a string :hello There\n",
            "In lower case :hello there\n",
            "In upper case :HELLO THERE\n"
          ]
        }
      ]
    },
    {
      "cell_type": "code",
      "metadata": {
        "id": "YiuZY8VXnrFV",
        "colab": {
          "base_uri": "https://localhost:8080/"
        },
        "outputId": "020cef3d-f03a-4c37-e21f-106e8743771b"
      },
      "source": [
        "#41 Write a Python program to count occurrences of a substring in a string.\n",
        "string = \"Python is awesome, isn't it?\"\n",
        "substring = \"is\"\n",
        "count = string.count(substring)\n",
        "print(\"The count is:\", count)"
      ],
      "execution_count": 14,
      "outputs": [
        {
          "output_type": "stream",
          "name": "stdout",
          "text": [
            "The count is: 2\n"
          ]
        }
      ]
    },
    {
      "cell_type": "code",
      "metadata": {
        "colab": {
          "base_uri": "https://localhost:8080/"
        },
        "id": "w0B2oxdQXBfQ",
        "outputId": "8cb75f57-e4a2-41da-91dd-723f5eb726d2"
      },
      "source": [
        "# 42Write a Python program to lowercase first n characters in a string.\n",
        "\n",
        "str1 = 'PRAKHAR'\n",
        "print(str1[:3].lower() + str1[3:])"
      ],
      "execution_count": 15,
      "outputs": [
        {
          "output_type": "stream",
          "name": "stdout",
          "text": [
            "praKHAR\n"
          ]
        }
      ]
    },
    {
      "cell_type": "code",
      "metadata": {
        "colab": {
          "base_uri": "https://localhost:8080/"
        },
        "id": "nSc_CYsuXF9L",
        "outputId": "af2fa492-fa23-4c6c-ace1-3ef83bf8ccb7"
      },
      "source": [
        "#43 Write a Python program to remove spaces from a given string.\n",
        "\n",
        "str1= 'PRAKHAR   JAIN   ACRO'\n",
        "str1=str1.replace('   ','')\n",
        "print(str1)"
      ],
      "execution_count": 16,
      "outputs": [
        {
          "output_type": "stream",
          "name": "stdout",
          "text": [
            "PRAKHARJAINACRO\n"
          ]
        }
      ]
    },
    {
      "cell_type": "code",
      "metadata": {
        "colab": {
          "base_uri": "https://localhost:8080/"
        },
        "id": "bdDxoq2pXJX9",
        "outputId": "20413a1c-7fe6-4508-da1a-2304a3d1bd98"
      },
      "source": [
        "#44)Write a Python program to move spaces to the front of a given string.\n",
        "def move_Spaces_front(str1):\n",
        "  noSpaces_char = [ch for ch in str1 if ch!=' ']\n",
        "  spaces_char = len(str1) - len(noSpaces_char)\n",
        "  result = ' '*spaces_char\n",
        "  result = '\"'+result + ''.join(noSpaces_char)+'\"'\n",
        "  return(result)\n",
        "\n",
        "print(move_Spaces_front(\"Acropolis    Collage  \"))\n",
        "print(move_Spaces_front(\"CSIT         Branch \"))"
      ],
      "execution_count": 17,
      "outputs": [
        {
          "output_type": "stream",
          "name": "stdout",
          "text": [
            "\"      AcropolisCollage\"\n",
            "\"          CSITBranch\"\n"
          ]
        }
      ]
    },
    {
      "cell_type": "code",
      "metadata": {
        "id": "SQWvumu3XLsu"
      },
      "source": [
        "# 45 Write a Python program to find the maximum occurring character in a given string.\n",
        "\n",
        "test_str = \"Brotherhood\"\n",
        "print (\"The original string is : \" + test_str)\n",
        "  \n",
        "all_freq = {}\n",
        "for i in test_str:\n",
        "    if i in all_freq:\n",
        "        all_freq[i] += 1\n",
        "    else:\n",
        "        all_freq[i] = 1\n",
        "res = max(all_freq, key = all_freq.get) \n",
        "print (\"The maximum of all characters in Brotherhood is : \" + str(res))"
      ],
      "execution_count": null,
      "outputs": []
    },
    {
      "cell_type": "code",
      "metadata": {
        "colab": {
          "base_uri": "https://localhost:8080/"
        },
        "id": "OFSdH_dgXOIB",
        "outputId": "6df807a8-540f-42d4-ea78-400cc1f98928"
      },
      "source": [
        "# 46 Write a Python program to capitalize first and last letters of each word of a given string.\n",
        "\n",
        "def capitalize_first_last_letters(str1):\n",
        "     str1 = result = str1.title()\n",
        "     result =  \"\"\n",
        "     for word in str1.split():\n",
        "        result += word[:-1] + word[-1].upper() + \" \"\n",
        "     return result[:-1]  \n",
        "     \n",
        "print(capitalize_first_last_letters(\"acropolis college indore\"))\n",
        "print(capitalize_first_last_letters(\"prakhar jain\"))"
      ],
      "execution_count": 18,
      "outputs": [
        {
          "output_type": "stream",
          "name": "stdout",
          "text": [
            "AcropoliS CollegE IndorE\n",
            "PrakhaR JaiN\n"
          ]
        }
      ]
    },
    {
      "cell_type": "code",
      "metadata": {
        "colab": {
          "base_uri": "https://localhost:8080/"
        },
        "id": "iN-K2WSLXRII",
        "outputId": "ca3f6193-41df-44d6-ef64-9bc4d2741166"
      },
      "source": [
        "# 47 Write a Python program to compute sum of digits of a given string.\n",
        "\n",
        "def sum_digits_string(str1):\n",
        "    sum_digit = 0\n",
        "    for x in str1:\n",
        "        if x.isdigit() == True:\n",
        "            z = int(x)\n",
        "            sum_digit = sum_digit + z\n",
        "\n",
        "    return sum_digit\n",
        "     \n",
        "print(sum_digits_string(\"123abcd45\"))\n",
        "print(sum_digits_string(\"abcd1234\"))"
      ],
      "execution_count": 19,
      "outputs": [
        {
          "output_type": "stream",
          "name": "stdout",
          "text": [
            "15\n",
            "10\n"
          ]
        }
      ]
    }
  ]
}
