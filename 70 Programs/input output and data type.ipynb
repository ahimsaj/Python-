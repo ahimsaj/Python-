{
  "nbformat": 4,
  "nbformat_minor": 0,
  "metadata": {
    "interpreter": {
      "hash": "06cb67651ce969e244f20f184e33f4ddb1106793adfe07cf7ddc131c95c4012f"
    },
    "kernelspec": {
      "display_name": "Python 3.9.1 64-bit",
      "name": "python3"
    },
    "language_info": {
      "codemirror_mode": {
        "name": "ipython",
        "version": 3
      },
      "file_extension": ".py",
      "mimetype": "text/x-python",
      "name": "python",
      "nbconvert_exporter": "python",
      "pygments_lexer": "ipython3",
      "version": "3.9.1"
    },
    "orig_nbformat": 4,
    "colab": {
      "name": "input_output_and_data_type.ipynb",
      "provenance": []
    }
  },
  "cells": [
    {
      "cell_type": "markdown",
      "metadata": {
        "id": "mR24YieD00FZ"
      },
      "source": [
        "Simple input/output and data type"
      ]
    },
    {
      "cell_type": "code",
      "metadata": {
        "id": "2eRXGkqn00Fg",
        "colab": {
          "base_uri": "https://localhost:8080/"
        },
        "outputId": "3e15a720-2722-4787-ced3-c79ffa3ef728"
      },
      "source": [
        "#1 Display float number with 2 decimal places using print()\n",
        "i = 15.96513\n",
        "print('%.2f'%i)\n"
      ],
      "execution_count": 1,
      "outputs": [
        {
          "output_type": "stream",
          "name": "stdout",
          "text": [
            "15.97\n"
          ]
        }
      ]
    },
    {
      "cell_type": "markdown",
      "metadata": {
        "id": "BmsWVqia00Fi"
      },
      "source": [
        ""
      ]
    },
    {
      "cell_type": "code",
      "metadata": {
        "colab": {
          "base_uri": "https://localhost:8080/"
        },
        "id": "O5jXaBUi00Fj",
        "outputId": "2119716d-bc8e-4131-fd9d-a81719a67790"
      },
      "source": [
        "#2 Takes two integer numbers and  return their product.\n",
        "x = int(input(\"Enter 1st no. :\"))\n",
        "y = int(input(\"Enter 2nd no. :\"))\n",
        "print(x*y)"
      ],
      "execution_count": 2,
      "outputs": [
        {
          "output_type": "stream",
          "name": "stdout",
          "text": [
            "Enter 1st no. :10\n",
            "Enter 2nd no. :20\n",
            "200\n"
          ]
        }
      ]
    },
    {
      "cell_type": "code",
      "metadata": {
        "id": "BxpDvZL600Fk",
        "colab": {
          "base_uri": "https://localhost:8080/"
        },
        "outputId": "2b19a9f7-c45c-4c7a-e424-08bfe8f92a96"
      },
      "source": [
        "#3 Write a Python program to get the volume of a sphere with radius 10.\n",
        "pi = 3.1415926535897931\n",
        "r = int(input())\n",
        "v = 4.0/3.0*pi*r**3\n",
        "print('Volume of sphere is: %.4f'%v)"
      ],
      "execution_count": 3,
      "outputs": [
        {
          "output_type": "stream",
          "name": "stdout",
          "text": [
            "10\n",
            "Volume of sphere is: 4188.7902\n"
          ]
        }
      ]
    },
    {
      "cell_type": "code",
      "metadata": {
        "id": "D-2MjRYc00Fl",
        "colab": {
          "base_uri": "https://localhost:8080/"
        },
        "outputId": "25d8c9f6-429d-4a54-ff24-97843b7949d4"
      },
      "source": [
        "#4 Accept two numbers from the user and multiply them together.\n",
        "x,y = map(int, input().split())\n",
        "print(x*y)"
      ],
      "execution_count": 4,
      "outputs": [
        {
          "output_type": "stream",
          "name": "stdout",
          "text": [
            "2 10\n",
            "20\n"
          ]
        }
      ]
    },
    {
      "cell_type": "code",
      "metadata": {
        "colab": {
          "base_uri": "https://localhost:8080/"
        },
        "id": "bE-E4XA900Fm",
        "outputId": "7d928b28-0e74-4453-a6d4-ddc279031725"
      },
      "source": [
        "#5 Write a Python program that accepts an integer (a) and computes the value of a+aa+aaa.\n",
        "a = input()\n",
        "aa = a+a\n",
        "aaa = a+a+a\n",
        "print(int(a)+int(aa)+int(aaa))"
      ],
      "execution_count": 5,
      "outputs": [
        {
          "output_type": "stream",
          "name": "stdout",
          "text": [
            "10\n",
            "102030\n"
          ]
        }
      ]
    },
    {
      "cell_type": "code",
      "metadata": {
        "colab": {
          "base_uri": "https://localhost:8080/"
        },
        "id": "lnwkaHEt00Fn",
        "outputId": "5b819018-da73-40b7-98f1-668c90af00c5"
      },
      "source": [
        "#6 Write a Python program to calculate the length of a string\n",
        "n = 'Prakhar'\n",
        "print(len(n))"
      ],
      "execution_count": 6,
      "outputs": [
        {
          "output_type": "stream",
          "name": "stdout",
          "text": [
            "7\n"
          ]
        }
      ]
    },
    {
      "cell_type": "code",
      "metadata": {
        "colab": {
          "base_uri": "https://localhost:8080/"
        },
        "id": "KcsfdeRQ00Fo",
        "outputId": "bc5d4aea-a961-4261-c7ec-0bea030f7373"
      },
      "source": [
        "#7 Write a Python program to parse a string to Float & Integer\n",
        "x = '1234'\n",
        "print(int(x))\n",
        "print(float(x))"
      ],
      "execution_count": 7,
      "outputs": [
        {
          "output_type": "stream",
          "name": "stdout",
          "text": [
            "1234\n",
            "1234.0\n"
          ]
        }
      ]
    }
  ]
}
