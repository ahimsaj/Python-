{
  "nbformat": 4,
  "nbformat_minor": 0,
  "metadata": {
    "colab": {
      "name": "Conditional Statements.ipynb",
      "provenance": [],
      "collapsed_sections": [],
      "authorship_tag": "ABX9TyOhVK+eUdBDQJEFj9YyW26u"
    },
    "kernelspec": {
      "name": "python3",
      "display_name": "Python 3"
    },
    "language_info": {
      "name": "python"
    }
  },
  "cells": [
    {
      "cell_type": "markdown",
      "metadata": {
        "id": "LUAWalu1Qu65"
      },
      "source": [
        "Conditional Statements"
      ]
    },
    {
      "cell_type": "code",
      "metadata": {
        "id": "BLJkac3n0hrD",
        "colab": {
          "base_uri": "https://localhost:8080/"
        },
        "outputId": "92d380da-cb61-49fb-970f-c9f377b6d339"
      },
      "source": [
        "#8 Given two integer numbers return their sum. If the sum is greater than 100, then return their product.\n",
        "x, y  = map (int , input().split())\n",
        "sum = x+y\n",
        "print(sum)\n",
        "\n",
        "if sum>100:\n",
        "    print(\"The sum of the numbers is greater than 100 so the product of the numbers is : \", x*y)"
      ],
      "execution_count": null,
      "outputs": [
        {
          "output_type": "stream",
          "name": "stdout",
          "text": [
            "50 60\n",
            "110\n",
            "The sum of the numbers is greater than 100 so the product of the numbers is :  3000\n"
          ]
        }
      ]
    },
    {
      "cell_type": "code",
      "metadata": {
        "id": "5HHj4yoa4aHw",
        "colab": {
          "base_uri": "https://localhost:8080/"
        },
        "outputId": "b8226a39-069f-448b-a921-1700fa1e1249"
      },
      "source": [
        "#9 Write a Python program to calculate the sum of three given numbers, if the values are not - equal then return four times of their sum.\n",
        "x, y, z = map(int, input().split())\n",
        "Sum  = x+y+z\n",
        "\n",
        "if x == y == z:\n",
        "    print(\"All the values are equal\")\n",
        "    print(\"Sum = \",Sum)\n",
        "else:\n",
        "    print(\"All the values are not equal\")\n",
        "    print(\"Sum = \",4*Sum)   \n"
      ],
      "execution_count": null,
      "outputs": [
        {
          "output_type": "stream",
          "name": "stdout",
          "text": [
            "10 10 10\n",
            "All the values are equal\n",
            "Sum =  30\n"
          ]
        }
      ]
    },
    {
      "cell_type": "code",
      "metadata": {
        "id": "vpHS5mOc-CNr",
        "colab": {
          "base_uri": "https://localhost:8080/"
        },
        "outputId": "943f0e58-a865-4523-a68b-5baec6e1e3d2"
      },
      "source": [
        "#10 A shop will give discount of 50% if the cost of purchased quantity is more than 10000. Ask user for quantity suppose, one unit will cost 100. Judge and print total cost for user.\n",
        "x = int(input(\"Enter quantity to be purchased:\"))\n",
        "cost = x*100\n",
        "\n",
        "if cost > 10000:\n",
        "    cost/=2\n",
        "    print(\"Cost = \",cost ) \n",
        "else:\n",
        "    print(\"Cost = \", cost)    "
      ],
      "execution_count": null,
      "outputs": [
        {
          "output_type": "stream",
          "name": "stdout",
          "text": [
            "Enter quantity to be purchased:500\n",
            "Cost =  25000.0\n"
          ]
        }
      ]
    },
    {
      "cell_type": "code",
      "metadata": {
        "id": "npP1QB0iAEfp",
        "colab": {
          "base_uri": "https://localhost:8080/"
        },
        "outputId": "bead043a-935c-43c8-8827-93c8c2db2a31"
      },
      "source": [
        "#11 To check whether a number is divisible by 8 and 12 or not.\n",
        "x = int(input(\"Enter a number: \"))\n",
        "\n",
        "if x%8==0 & x%12==0:\n",
        "    print(\"Yes, The number is divisible by 8 & 12\")\n",
        "else:\n",
        "    print(\"No, The number is not divisible by 8 & 12\")    "
      ],
      "execution_count": null,
      "outputs": [
        {
          "output_type": "stream",
          "name": "stdout",
          "text": [
            "Enter a number: 24\n",
            "Yes, The number is divisible by 8 & 12\n"
          ]
        }
      ]
    },
    {
      "cell_type": "code",
      "metadata": {
        "id": "uO4RXbfjBI72",
        "colab": {
          "base_uri": "https://localhost:8080/"
        },
        "outputId": "e0c71f6a-4cb6-4eb6-acd4-a060ca07cf21"
      },
      "source": [
        "#12 To check whether a given number is even or odd.\n",
        "x = int(input(\"Enter a number: \"))\n",
        "\n",
        "if x%2==0:\n",
        "    print(\"The number is even\")\n",
        "else:    \n",
        "    print(\"The number is odd\")"
      ],
      "execution_count": null,
      "outputs": [
        {
          "output_type": "stream",
          "name": "stdout",
          "text": [
            "Enter a number: 321\n",
            "The number is odd\n"
          ]
        }
      ]
    },
    {
      "cell_type": "code",
      "metadata": {
        "id": "VvZfILnkCRgL",
        "colab": {
          "base_uri": "https://localhost:8080/"
        },
        "outputId": "3bbbe5f5-18a2-471f-f1e9-1ee65ec1410a"
      },
      "source": [
        "'''13 Write a program to input marks of five subjects Physics, Chemistry, Biology, Mathematics and Computer. Calculate percentage and grade according to following:\n",
        "Percentage >= 90% : Grade A\n",
        "Percentage >= 80% : Grade B\n",
        "Percentage >= 70% : Grade C\n",
        "Percentage >= 60% : Grade D\n",
        "Percentage >= 40% : Grade E\n",
        "Percentage < 40% :  Grade F '''\n",
        "'''13 Write a program to input marks of five subjects Physics, Chemistry, Biology, Mathematics and Computer. Calculate percentage and grade according to following:\n",
        "Percentage >= 90% : Grade A\n",
        "Percentage >= 80% : Grade B\n",
        "Percentage >= 70% : Grade C\n",
        "Percentage >= 60% : Grade D\n",
        "Percentage >= 40% : Grade E\n",
        "Percentage < 40% :  Grade F '''\n",
        "\n",
        "print(\"Enter the marks of the following Subjects\")\n",
        "Phy = int(input(\"Physics = \"))\n",
        "Che = int(input(\"Chemistry = \"))\n",
        "Bio = int(input(\"Biology = \"))\n",
        "Math = int(input(\"Mathematics = \"))\n",
        "Comp = int(input(\"Computer = \"))\n",
        "\n",
        "Per = (Phy+Che+Bio+Math+Comp)/5\n",
        "\n",
        "print('Percentage is: ',Per)\n",
        "if Per>=90:\n",
        "    print('Grade A')\n",
        "elif Per>=80:\n",
        "    print('Grade B')\n",
        "elif Per>=70:\n",
        "    print('Grade C')\n",
        "elif Per>=60:\n",
        "    print('Grade D')\n",
        "elif Per>=40:\n",
        "    print('Grade E')\n",
        "else:\n",
        "    print('Grade F')\n"
      ],
      "execution_count": null,
      "outputs": [
        {
          "output_type": "stream",
          "name": "stdout",
          "text": [
            "Enter the marks of the following Subjects\n",
            "Physics = 90\n",
            "Chemistry = 85\n",
            "Biology = 80\n",
            "Mathematics = 70\n",
            "Computer = 75\n",
            "Percentage is:  80.0\n",
            "Grade B\n"
          ]
        }
      ]
    },
    {
      "cell_type": "code",
      "metadata": {
        "id": "GLNSQxFWHHsK",
        "colab": {
          "base_uri": "https://localhost:8080/"
        },
        "outputId": "e57b9780-8c3e-4849-9def-28eb67b5cd24"
      },
      "source": [
        "#14 Take input of age of 3 people by user and determine oldest and youngest among them.\n",
        "a,b,c = map(int, input().split())\n",
        "if a>b and a>c:\n",
        "    print('Person first is oldest')\n",
        "elif b>a and b>c:\n",
        "    print('Person second is oldest')\n",
        "else:\n",
        "    print('Person third is oldest')\n",
        "if a<b and a<c:\n",
        "    print('Person first is youngest')\n",
        "elif b<a and b<c:\n",
        "    print('Person second is youngest')\n",
        "else:\n",
        "    print('Person third is youngest')"
      ],
      "execution_count": null,
      "outputs": [
        {
          "output_type": "stream",
          "name": "stdout",
          "text": [
            "15 27 9\n",
            "Person second is oldest\n",
            "Person third is youngest\n"
          ]
        }
      ]
    },
    {
      "cell_type": "code",
      "metadata": {
        "id": "1V5bRaUjHTfY",
        "colab": {
          "base_uri": "https://localhost:8080/"
        },
        "outputId": "fa3bca10-0419-401d-ed93-6d76a76e7fa9"
      },
      "source": [
        "#15 Write a program to input electricity unit charges and calculate total electricity bill according to the given condition:\n",
        "# For first 50 units Rs. 0.50/unit\n",
        "# For next 100 units Rs. 0.75/unit\n",
        "# For next 100 units Rs. 1.20/unit\n",
        "# For unit above 250 Rs. 1.50/unit\n",
        "# An additional surcharge of 20% is added to the bill\n",
        "\n",
        "x = int(input(\"Enter Units of electricity: \"))\n",
        "cost = 0\n",
        "if x - 50 > 0:\n",
        "    cost = 50*(.50)\n",
        "    if x - 150 > 0:\n",
        "        cost = cost + 75\n",
        "        if x - 250 > 0:\n",
        "            cost = cost + 120 + (x-250)*1.50\n",
        "        else:\n",
        "            cost = cost + (x-150)*1.20\n",
        "    else:\n",
        "        cost = cost + (x-50)*.75\n",
        "else:\n",
        "    cost = x*(0.50)\n",
        "cost = cost + cost/5\n",
        "print(\"You have to Pay total amount of Rs.\", cost)"
      ],
      "execution_count": null,
      "outputs": [
        {
          "output_type": "stream",
          "name": "stdout",
          "text": [
            "Enter Units of electricity: 50\n",
            "You have to Pay total amount of Rs. 30.0\n"
          ]
        }
      ]
    },
    {
      "cell_type": "code",
      "metadata": {
        "id": "NRHi2vzKSepj",
        "colab": {
          "base_uri": "https://localhost:8080/"
        },
        "outputId": "189d3b31-bf00-4fe3-9022-27d1b7f08de7"
      },
      "source": [
        "#16 A student will not be allowed to sit in exam if his/her attendence is less than 80%.\n",
        "#Take following input from user\n",
        "#Total Number of classes held\n",
        "#Total Number of classes attended. And print percentage of class attended. Is student is allowed to sit in exam or not.\n",
        "Class_held = int(input(\"Enter the total no of class held :\"))\n",
        "Class_attended = int(input(\"Enter the no of class attended : \"))\n",
        "\n",
        "attendance = (Class_attended/Class_held)*100\n",
        "print(\"Youe attendance is :\", attendance ,\"%\")\n",
        "\n",
        "if attendance < 80:\n",
        "    print(\"Sorry, You are not allowed to sit in exam.\")\n",
        "else:\n",
        "    print(\"Congrats, You are allowed to sit in exam.\")\n"
      ],
      "execution_count": null,
      "outputs": [
        {
          "output_type": "stream",
          "name": "stdout",
          "text": [
            "Enter the total no of class held :100\n",
            "Enter the no of class attended : 78\n",
            "Youe attendance is : 78.0 %\n",
            "Sorry, You are not allowed to sit in exam.\n"
          ]
        }
      ]
    },
    {
      "cell_type": "code",
      "metadata": {
        "id": "s6FDGqgiVh0C",
        "colab": {
          "base_uri": "https://localhost:8080/"
        },
        "outputId": "fdde4c3c-c94f-4d34-d958-b36185d2cfbb"
      },
      "source": [
        "#17 Calculate income tax for the given income by adhering to the below rules\n",
        "#Taxable Income        Rate (in %)\n",
        "#First Rs.10,0000         0\n",
        "#Next Rs. 10,0000       10\n",
        "#The remaining           20\n",
        "\n",
        "income = int(input(\"Enter your income: \"))\n",
        "tax= 0\n",
        "print(\"Given income\", income)\n",
        "\n",
        "if income <= 10000:\n",
        "    tax = 0\n",
        "elif income <= 20000:\n",
        "    x = income - 10000\n",
        "    tax = x * 10 / 100\n",
        "else:\n",
        "    tax = 10000 * 10 / 100\n",
        "    tax += (income - 20000) * 20 / 100\n",
        "\n",
        "print(\"Total tax to pay is\", tax)"
      ],
      "execution_count": null,
      "outputs": [
        {
          "output_type": "stream",
          "name": "stdout",
          "text": [
            "Enter your income: 45000\n",
            "Given income 45000\n",
            "Total tax to pay is 6000.0\n"
          ]
        }
      ]
    }
  ]
}
