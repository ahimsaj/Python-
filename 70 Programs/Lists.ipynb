{
  "nbformat": 4,
  "nbformat_minor": 0,
  "metadata": {
    "colab": {
      "name": "62_to_70_List.ipynb",
      "provenance": []
    },
    "kernelspec": {
      "name": "python3",
      "display_name": "Python 3"
    },
    "language_info": {
      "name": "python"
    }
  },
  "cells": [
    {
      "cell_type": "code",
      "metadata": {
        "colab": {
          "base_uri": "https://localhost:8080/"
        },
        "id": "WGSriAMy_t4N",
        "outputId": "12c4312b-43ad-40e4-ddc5-9684c4fd40c1"
      },
      "source": [
        "#62.Python program to display the sum of input (n) numbers using a list.\n",
        "\n",
        "list1 = [11, 5, 17, 18, 23]\n",
        "total=0\n",
        "for i in range(0, len(list1)):\n",
        "    total = total + list1[i]\n",
        " \n",
        "print(\"Sum of all elements in given list: \", total)"
      ],
      "execution_count": 1,
      "outputs": [
        {
          "output_type": "stream",
          "name": "stdout",
          "text": [
            "Sum of all elements in given list:  74\n"
          ]
        }
      ]
    },
    {
      "cell_type": "code",
      "metadata": {
        "colab": {
          "base_uri": "https://localhost:8080/"
        },
        "id": "r8gODyLn_8Zu",
        "outputId": "2c536152-c973-4a25-8cd1-2708ebb1370b"
      },
      "source": [
        "#63)Python program to insert a number to given position in a list.\n",
        "print(\"Enter 10 Elements of List: \")\n",
        "nums = []\n",
        "for i in range(10):\n",
        "    nums.insert(i, input())\n",
        "print(\"Enter an Element to Insert at End: \")\n",
        "elem = input()\n",
        "nums.append(elem)\n",
        "print(\"\\nThe New List is: \")\n",
        "print(nums)"
      ],
      "execution_count": 2,
      "outputs": [
        {
          "output_type": "stream",
          "name": "stdout",
          "text": [
            "Enter 10 Elements of List: \n",
            "2\n",
            "3\n",
            "4\n",
            "5\n",
            "6\n",
            "7\n",
            "1\n",
            "8\n",
            "6\n",
            "9\n",
            "Enter an Element to Insert at End: \n",
            "4\n",
            "\n",
            "The New List is: \n",
            "['2', '3', '4', '5', '6', '7', '1', '8', '6', '9', '4']\n"
          ]
        }
      ]
    },
    {
      "cell_type": "code",
      "metadata": {
        "colab": {
          "base_uri": "https://localhost:8080/"
        },
        "id": "bxD6icAt_-RE",
        "outputId": "8fd1f1b3-6efa-404a-f8a5-3d906d3c6006"
      },
      "source": [
        "#64. Write the program that prompts the user for a list of numbers and prints out the maximum and minimum of the \n",
        "# numbers at the end when the user enters “done”. Write the program to store the numbers the user enters in a list and \n",
        "# use the max() and min() functions to compute the maximum and minimum numbers after the loop completes.\n",
        "\n",
        "my_list = []                     \n",
        "while True:\n",
        "    number = 0.0\n",
        "    input_number = input('Enter a number: ')\n",
        "    if input_number == 'done':\n",
        "        break\n",
        "\n",
        "    try:\n",
        "        number = float(input_number)\n",
        "    except ValueError:\n",
        "        print('Invalid input')\n",
        "        quit()\n",
        "\n",
        "    my_list.append(number)\n",
        "\n",
        "if my_list:\n",
        "    print('Maximum: ', max(my_list) or None)\n",
        "    print('Minimum: ', min(my_list) or None)"
      ],
      "execution_count": 3,
      "outputs": [
        {
          "output_type": "stream",
          "name": "stdout",
          "text": [
            "Enter a number: 4\n",
            "Enter a number: 55\n",
            "Enter a number: 7\n",
            "Enter a number: 4\n",
            "Enter a number: done\n",
            "Maximum:  55.0\n",
            "Minimum:  4.0\n"
          ]
        }
      ]
    },
    {
      "cell_type": "code",
      "metadata": {
        "colab": {
          "base_uri": "https://localhost:8080/"
        },
        "id": "VNsZl-X5AKaO",
        "outputId": "7662d076-642c-4c58-ee51-c66e46b7bbbd"
      },
      "source": [
        "#65.Write another program that prompts for a list of numbers as above and at the end prints out both the maximum and minimum of the numbers.\n",
        "my_list = []                     \n",
        "while True:\n",
        "    number = 0.0\n",
        "    input_number = input('Enter a number: ')\n",
        "    if input_number == 'done':\n",
        "        break\n",
        "\n",
        "    try:\n",
        "        number = float(input_number)\n",
        "    except ValueError:\n",
        "        print('Invalid input')\n",
        "        quit()\n",
        "\n",
        "    my_list.append(number)\n",
        "\n",
        "if my_list:\n",
        "    print('Maximum: ', max(my_list) or None)\n",
        "    print('Minimum: ', min(my_list) or None)"
      ],
      "execution_count": 4,
      "outputs": [
        {
          "output_type": "stream",
          "name": "stdout",
          "text": [
            "Enter a number: 3\n",
            "Enter a number: 4\n",
            "Enter a number: 9\n",
            "Enter a number: 1\n",
            "Enter a number: done\n",
            "Maximum:  9.0\n",
            "Minimum:  1.0\n"
          ]
        }
      ]
    },
    {
      "cell_type": "code",
      "metadata": {
        "colab": {
          "base_uri": "https://localhost:8080/"
        },
        "id": "79-hiC1wAQq0",
        "outputId": "8581b482-8e87-450c-a173-1de2a4c12ec8"
      },
      "source": [
        "#66.Python program to delete an element from a list by index which is given by the user.\n",
        "\n",
        "print(\"Enter 10 Elements: \")\n",
        "arr = []\n",
        "for i in range(10):\n",
        "    arr.append(input())\n",
        "\n",
        "print(\"\\nEnter the Value to Delete: \")\n",
        "val = input()\n",
        "\n",
        "arr.remove(val)\n",
        "print(arr)"
      ],
      "execution_count": 5,
      "outputs": [
        {
          "output_type": "stream",
          "name": "stdout",
          "text": [
            "Enter 10 Elements: \n",
            "3\n",
            "4\n",
            "6\n",
            "9\n",
            "76\n",
            "23\n",
            "65\n",
            "41\n",
            "54\n",
            "55\n",
            "\n",
            "Enter the Value to Delete: \n",
            "76\n",
            "['3', '4', '6', '9', '23', '65', '41', '54', '55']\n"
          ]
        }
      ]
    },
    {
      "cell_type": "code",
      "metadata": {
        "colab": {
          "base_uri": "https://localhost:8080/"
        },
        "id": "lvTcfeE4AXog",
        "outputId": "4e0cda9b-a730-4b92-d19d-95aa6da13ea3"
      },
      "source": [
        "#67)Write a Python program to print a specified list after removing the 1st, 2nd and 5th elements.\n",
        "color = ['Red', 'Green', 'White', 'Black', 'Pink', 'Yellow']\n",
        "color = [x for (i,x) in enumerate(color) if i not in (1,2,5)]\n",
        "print(color)"
      ],
      "execution_count": 6,
      "outputs": [
        {
          "output_type": "stream",
          "name": "stdout",
          "text": [
            "['Red', 'Black', 'Pink']\n"
          ]
        }
      ]
    },
    {
      "cell_type": "code",
      "metadata": {
        "colab": {
          "base_uri": "https://localhost:8080/"
        },
        "id": "OW0sUVjGAef2",
        "outputId": "afdee980-0cab-48f0-d26a-71c54f7389b2"
      },
      "source": [
        "#68)Write a Python program to generate all sublists of a list.\n",
        "from itertools import combinations\n",
        "def sub_lists(my_list):\n",
        "\tsubs = []\n",
        "\tfor i in range(0, len(my_list)+1):\n",
        "\t  temp = [list(x) for x in combinations(my_list, i)]\n",
        "\t  if len(temp)>0:\n",
        "\t    subs.extend(temp)\n",
        "\treturn subs\n",
        "\n",
        "\n",
        "l1 = [10, 20, 30, 40]\n",
        "l2 = ['X', 'Y', 'Z']\n",
        "print(\"Original list:\")\n",
        "print(l1)\n",
        "print(\"S\")\n",
        "print(sub_lists(l1))\n",
        "print(\"Sublists of the said list:\")\n",
        "print(sub_lists(l1))\n",
        "print(\"\\nOriginal list:\")\n",
        "print(l2)\n",
        "print(\"Sublists of the said list:\")\n",
        "print(sub_lists(l2))"
      ],
      "execution_count": 7,
      "outputs": [
        {
          "output_type": "stream",
          "name": "stdout",
          "text": [
            "Original list:\n",
            "[10, 20, 30, 40]\n",
            "S\n",
            "[[], [10], [20], [30], [40], [10, 20], [10, 30], [10, 40], [20, 30], [20, 40], [30, 40], [10, 20, 30], [10, 20, 40], [10, 30, 40], [20, 30, 40], [10, 20, 30, 40]]\n",
            "Sublists of the said list:\n",
            "[[], [10], [20], [30], [40], [10, 20], [10, 30], [10, 40], [20, 30], [20, 40], [30, 40], [10, 20, 30], [10, 20, 40], [10, 30, 40], [20, 30, 40], [10, 20, 30, 40]]\n",
            "\n",
            "Original list:\n",
            "['X', 'Y', 'Z']\n",
            "Sublists of the said list:\n",
            "[[], ['X'], ['Y'], ['Z'], ['X', 'Y'], ['X', 'Z'], ['Y', 'Z'], ['X', 'Y', 'Z']]\n"
          ]
        }
      ]
    },
    {
      "cell_type": "code",
      "metadata": {
        "colab": {
          "base_uri": "https://localhost:8080/"
        },
        "id": "aH7wQwbcAgl3",
        "outputId": "835ca6be-afd4-4a57-ec5c-ca3c04d0febf"
      },
      "source": [
        "#69)Write a Python program to find all the values in a list are greater than a given number.\n",
        "list1 = [220, 330, 500]\n",
        "list2 = [12, 17, 21]\n",
        "print(all(x >= 200 for x in list1))\n",
        "print(all(x >= 15 for x in list2))"
      ],
      "execution_count": 9,
      "outputs": [
        {
          "output_type": "stream",
          "name": "stdout",
          "text": [
            "True\n",
            "False\n"
          ]
        }
      ]
    },
    {
      "cell_type": "code",
      "metadata": {
        "colab": {
          "base_uri": "https://localhost:8080/"
        },
        "id": "9EYQdu_EAizw",
        "outputId": "c8d65825-6f29-4b76-9d2a-9a049c62d8e3"
      },
      "source": [
        "#70)Python program to find the even numbers in a List.\n",
        "list1 = [10, 21, 4, 45, 66, 93]\n",
        "for num in list1:\n",
        "    if num % 2 == 0:\n",
        "        print(num, end=\" \")"
      ],
      "execution_count": 10,
      "outputs": [
        {
          "output_type": "stream",
          "name": "stdout",
          "text": [
            "10 4 66 "
          ]
        }
      ]
    }
  ]
}
